{
  "cells": [
    {
      "cell_type": "markdown",
      "source": [
        "# Problem statement"
      ],
      "metadata": {
        "id": "wssHK_6qdHQV"
      }
    },
    {
      "cell_type": "markdown",
      "source": [
        "$$ i \\psi_t + 0.5 \\psi_{xx} + |\\psi|^2 \\psi=0, x \\in [x_0, x_1], t \\in [0, t_{max}]$$\n",
        "$$ \\psi(x, 0) = \\psi_0(x)$$\n",
        "$$ \\psi(x_0, t) = \\psi(x_1, t)$$"
      ],
      "metadata": {
        "id": "ficQuxJmWkUx"
      }
    },
    {
      "cell_type": "markdown",
      "source": [
        "* one-order rogue wave solution:"
      ],
      "metadata": {
        "id": "w3FuP-4UZmNK"
      }
    },
    {
      "cell_type": "markdown",
      "source": [
        "$$ \\psi(x, t) = (1 - \\frac{4(1+2it)}{4t^2 + 4x^2+1})e^{it}$$"
      ],
      "metadata": {
        "id": "woA86o31Zuaq"
      }
    },
    {
      "cell_type": "code",
      "source": [
        "def rogue_wave(x, t):\n",
        "    u = np.zeros((t.shape[0], x.shape[0]))\n",
        "    v = np.zeros((t.shape[0], x.shape[0]))\n",
        "    h = np.zeros((t.shape[0], x.shape[0]))\n",
        "    for i, ti in enumerate(t):\n",
        "      for j, xj in enumerate(x):\n",
        "          tmp = 4 / (4 * ti**2 + 4 * xj**2 + 1)\n",
        "          u[i, j] = np.cos(ti) * (1 - tmp) + 2 * tmp* ti * np.sin(ti)\n",
        "          v[i, j] = np.sin(ti) * (1 - tmp) - 2 *tmp * ti * np.cos(ti)\n",
        "          h[i, j] = np.sqrt((1 - tmp)**2 + (2 * tmp * ti)**2)\n",
        "    return u, v, h"
      ],
      "metadata": {
        "id": "GD1qYAhceNo4"
      },
      "execution_count": null,
      "outputs": []
    },
    {
      "cell_type": "markdown",
      "source": [
        "# Packages"
      ],
      "metadata": {
        "id": "o0l6bxKbU3qN"
      }
    },
    {
      "cell_type": "code",
      "source": [
        "!pip install pyDOE"
      ],
      "metadata": {
        "id": "38wx2k-65qHJ"
      },
      "execution_count": null,
      "outputs": []
    },
    {
      "cell_type": "code",
      "execution_count": null,
      "metadata": {
        "id": "eB33JPDt3lCg"
      },
      "outputs": [],
      "source": [
        "import sys\n",
        "sys.path.insert(0, '../Utilities/')\n",
        "\n",
        "import torch\n",
        "from collections import OrderedDict\n",
        "\n",
        "from pyDOE import lhs\n",
        "import numpy as np\n",
        "import matplotlib.pyplot as plt\n",
        "import scipy.io\n",
        "from scipy.interpolate import griddata\n",
        "#from plotting import newfig, savefig\n",
        "from mpl_toolkits.axes_grid1 import make_axes_locatable\n",
        "import matplotlib.gridspec as gridspec\n",
        "import time\n",
        "\n",
        "#np.random.seed(1234)"
      ]
    },
    {
      "cell_type": "code",
      "execution_count": null,
      "metadata": {
        "colab": {
          "base_uri": "https://localhost:8080/"
        },
        "id": "B-DB342N3lCj",
        "outputId": "4a189c5e-567a-40a6-f94a-d9d9a6d6713c"
      },
      "outputs": [
        {
          "output_type": "execute_result",
          "data": {
            "text/plain": [
              "device(type='cuda')"
            ]
          },
          "metadata": {},
          "execution_count": 3
        }
      ],
      "source": [
        "# CUDA support \n",
        "if torch.cuda.is_available():\n",
        "    device = torch.device('cuda')\n",
        "else:\n",
        "    device = torch.device('cpu')\n",
        "device"
      ]
    },
    {
      "cell_type": "markdown",
      "metadata": {
        "id": "UVz3YqNA3lCl"
      },
      "source": [
        "# Physics-informed Neural Network"
      ]
    },
    {
      "cell_type": "code",
      "execution_count": null,
      "metadata": {
        "id": "9Eg9ssXQ3lCm"
      },
      "outputs": [],
      "source": [
        "# the deep neural network\n",
        "class DNN(torch.nn.Module):\n",
        "    def __init__(self, layers):\n",
        "        super(DNN, self).__init__()\n",
        "        \n",
        "        # parameters\n",
        "        self.depth = len(layers) - 1\n",
        "        \n",
        "        # set up layer order dict\n",
        "        self.activation = torch.nn.Tanh\n",
        "        \n",
        "        layer_list = list()\n",
        "        for i in range(self.depth - 1): \n",
        "            layer_list.append(\n",
        "                ('layer_%d' % i, torch.nn.Linear(layers[i], layers[i+1]))\n",
        "            )\n",
        "            layer_list.append(('activation_%d' % i, self.activation()))\n",
        "            \n",
        "        layer_list.append(\n",
        "            ('layer_%d' % (self.depth - 1), torch.nn.Linear(layers[-2], layers[-1]))\n",
        "        )\n",
        "        layerDict = OrderedDict(layer_list)\n",
        "        \n",
        "        # deploy layers\n",
        "        self.layers = torch.nn.Sequential(layerDict)\n",
        "        \n",
        "    def forward(self, x):\n",
        "        out = self.layers(x)\n",
        "        return out"
      ]
    },
    {
      "cell_type": "code",
      "execution_count": null,
      "metadata": {
        "id": "pGvi-4dJ3lCn"
      },
      "outputs": [],
      "source": [
        "# the physics-guided neural network\n",
        "class PhysicsInformedNN():\n",
        "    def __init__(self, x0, u0, v0, tb, X_f, layers, lb, ub, a=0.):\n",
        "    #def __init__(self, X_u, u, X_f, layers, lb, ub, nu, a=0.):\n",
        "        \n",
        "        # boundary conditions\n",
        "        self.lb = torch.tensor(lb).float().to(device)\n",
        "        self.ub = torch.tensor(ub).float().to(device)\n",
        "        \n",
        "        # data\n",
        "        X0 = np.concatenate((x0, 0*x0+lb[1]), 1)\n",
        "        X_lb = np.concatenate((0*tb + lb[0], tb), 1) # (lb[0], tb)\n",
        "        X_ub = np.concatenate((0*tb + ub[0], tb), 1) # (ub[0], tb)\n",
        "        self.x0 = torch.tensor(X0[:, 0:1], requires_grad=True).float().to(device)\n",
        "        self.t0 = torch.tensor(X0[:, 1:2], requires_grad=True).float().to(device)\n",
        "        self.x_lb = torch.tensor(X_lb[:,0:1], requires_grad=True).float().to(device)\n",
        "        self.t_lb = torch.tensor(X_lb[:,1:2], requires_grad=True).float().to(device)\n",
        "\n",
        "        self.x_ub = torch.tensor(X_ub[:,0:1], requires_grad=True).float().to(device)\n",
        "        self.t_ub = torch.tensor(X_ub[:,1:2], requires_grad=True).float().to(device)\n",
        "\n",
        "        self.x_f = torch.tensor(X_f[:, 0:1], requires_grad=True).float().to(device)\n",
        "        self.t_f = torch.tensor(X_f[:, 1:2], requires_grad=True).float().to(device)\n",
        "        self.u0 = torch.tensor(u0).float().to(device)\n",
        "        self.v0 = torch.tensor(v0).float().to(device)\n",
        "        \n",
        "        self.layers = layers\n",
        "        self.a = a\n",
        "        \n",
        "        # deep neural networks\n",
        "        self.dnn = DNN(layers).to(device)\n",
        "        \n",
        "        # optimizers: using the same settings\n",
        "        self.optimizer_adam = torch.optim.Adam(self.dnn.parameters(), lr=1e-4)\n",
        "        self.optimizer = torch.optim.LBFGS(\n",
        "            self.dnn.parameters(), \n",
        "            lr=1.0, \n",
        "            max_iter=50000, \n",
        "            max_eval=50000, \n",
        "            history_size=50,\n",
        "            tolerance_grad=1e-7, \n",
        "            tolerance_change=1.0 * np.finfo(float).eps,\n",
        "            line_search_fn=\"strong_wolfe\"       # can be \"strong_wolfe\"\n",
        "        )\n",
        "\n",
        "        self.iter = 0\n",
        "        self.losses = []\n",
        "        \n",
        "    def net_uv(self, x, t):  \n",
        "        uv = self.dnn(torch.cat([x, t], dim=1))\n",
        "        u = uv[:,0:1]\n",
        "        v = uv[:,1:2]\n",
        "        u_x = torch.autograd.grad(\n",
        "            u, x, \n",
        "            grad_outputs=torch.ones_like(u),\n",
        "            retain_graph=True,\n",
        "            create_graph=True)[0]\n",
        "        v_x = torch.autograd.grad(\n",
        "            v, x, \n",
        "            grad_outputs=torch.ones_like(v),\n",
        "            retain_graph=True,\n",
        "            create_graph=True)[0]\n",
        "        return u, v, u_x, v_x\n",
        "    \n",
        "    def net_f(self, x, t):\n",
        "        \"\"\" The pytorch autograd version of calculating residual \"\"\"\n",
        "        u, v, u_x, v_x = self.net_uv(x, t)\n",
        "        \n",
        "        u_t = torch.autograd.grad(\n",
        "            u, t, \n",
        "            grad_outputs=torch.ones_like(u),\n",
        "            retain_graph=True,\n",
        "            create_graph=True)[0]\n",
        "        \n",
        "        v_t = torch.autograd.grad(\n",
        "            v, t, \n",
        "            grad_outputs=torch.ones_like(v),\n",
        "            retain_graph=True,\n",
        "            create_graph=True)[0]\n",
        "\n",
        "        u_xx = torch.autograd.grad(\n",
        "            u_x, x, \n",
        "            grad_outputs=torch.ones_like(u_x),\n",
        "            retain_graph=True,\n",
        "            create_graph=True)[0]\n",
        "\n",
        "        v_xx = torch.autograd.grad(\n",
        "            v_x, x, \n",
        "            grad_outputs=torch.ones_like(v_x),\n",
        "            retain_graph=True,\n",
        "            create_graph=True)[0]\n",
        "        \n",
        "        f_u = u_t + 0.5*v_xx + (u**2 + v**2) * (v + self.a * u_x)\n",
        "        f_v = v_t - 0.5*u_xx - (u**2 + v**2) * (u - self.a * v_x)  \n",
        "        return f_u, f_v\n",
        "    \n",
        "    def loss_func(self):\n",
        "        self.optimizer.zero_grad()\n",
        "        \n",
        "        u0_pred, v0_pred, _, _ = self.net_uv(self.x0, self.t0)\n",
        "        f_u_pred, f_v_pred  = self.net_f(self.x_f, self.t_f) \n",
        "        #f_u_pred = torch.mul(f_u_pred, weights) # !\n",
        "        #f_v_pred = torch.mul(f_v_pred, weights) # !\n",
        "        u_lb, v_lb, u_x_lb, v_x_lb = self.net_uv(self.x_lb, self.t_lb)\n",
        "        u_ub, v_ub, u_x_ub, v_x_ub = self.net_uv(self.x_ub, self.t_ub)\n",
        "        \n",
        "        loss_ic = torch.mean((self.u0 - u0_pred) ** 2) + torch.mean((self.v0 - v0_pred) ** 2)\n",
        "        loss_bc = torch.mean((u_lb - u_ub)**2) + torch.mean((v_lb - v_ub)**2)# + \\\n",
        "                  #torch.mean((u_x_lb - u_x_ub)**2) + torch.mean((v_x_lb - v_x_ub)**2)\n",
        "        loss_f = torch.mean(f_u_pred ** 2) + torch.mean(f_v_pred ** 2)\n",
        "        \n",
        "        loss = loss_ic + loss_bc + loss_f\n",
        "        \n",
        "        loss.backward()\n",
        "        self.iter += 1\n",
        "        if self.iter % 500 == 0:\n",
        "            print(\n",
        "                'Iter %d, Loss: %.5e, Loss_u: %.5e, Loss_f: %.5e' % (self.iter, loss.item(), loss_ic.item()+loss_bc.item(), loss_f.item())\n",
        "            )\n",
        "        self.losses.append(loss.item())\n",
        "        return loss\n",
        "    \n",
        "    def train(self):\n",
        "        self.dnn.train()\n",
        "                \n",
        "        # Backward and optimize\n",
        "        for i in range(10000):\n",
        "          self.optimizer_adam.step(self.loss_func)\n",
        "        self.optimizer.step(self.loss_func)\n",
        "\n",
        "            \n",
        "    def predict(self, X):\n",
        "        x = torch.tensor(X[:, 0:1], requires_grad=True).float().to(device)\n",
        "        t = torch.tensor(X[:, 1:2], requires_grad=True).float().to(device)\n",
        "\n",
        "        self.dnn.eval()\n",
        "        u, v, _, _ = self.net_uv(x, t)\n",
        "        #f = self.net_f(x, t)\n",
        "        u = u.detach().cpu().numpy()\n",
        "        v = v.detach().cpu().numpy()\n",
        "        return u, v"
      ]
    },
    {
      "cell_type": "markdown",
      "source": [
        "# Dataset"
      ],
      "metadata": {
        "id": "9ZLs-h_IDoEe"
      }
    },
    {
      "cell_type": "code",
      "source": [
        "x = np.linspace(-2.,2.,101)\n",
        "t = np.linspace(-1.5, 1.5, 101)"
      ],
      "metadata": {
        "id": "pUDUrrVUg6Nf"
      },
      "execution_count": null,
      "outputs": []
    },
    {
      "cell_type": "code",
      "source": [
        "lb = np.array([x.min(), t.min()])\n",
        "ub = np.array([x.max(), t.max()])"
      ],
      "metadata": {
        "id": "t5ybsqqZhi9A"
      },
      "execution_count": null,
      "outputs": []
    },
    {
      "cell_type": "code",
      "source": [
        "u, v, h = rogue_wave(x, t)"
      ],
      "metadata": {
        "id": "tQQ_zXgOhMEr"
      },
      "execution_count": null,
      "outputs": []
    },
    {
      "cell_type": "code",
      "source": [
        "def draw_map(matrix, ext, title):\n",
        "  fig, ax = plt.subplots(1,1,figsize = (8,4))\n",
        "  colormap = ax.imshow(matrix.T, interpolation='nearest', cmap='jet',\n",
        "                       extent = ext, \n",
        "                    origin='lower', aspect='auto')\n",
        "  fig.colorbar(colormap)\n",
        "  plt.xlabel('t', fontsize = 12)\n",
        "  plt.ylabel('x', fontsize = 12)\n",
        "  plt.title(title, fontsize = 14)\n",
        "  pass"
      ],
      "metadata": {
        "id": "CHWoMu97FeCO"
      },
      "execution_count": null,
      "outputs": []
    },
    {
      "cell_type": "code",
      "source": [
        "draw_map(h, [lb[1], ub[1], lb[0], ub[0]],'$ |\\psi(x,t)| $')"
      ],
      "metadata": {
        "colab": {
          "base_uri": "https://localhost:8080/",
          "height": 301
        },
        "id": "LrZ1Nh7hVhM5",
        "outputId": "35427c32-b6f8-42c7-87e3-3b3607e9b20e"
      },
      "execution_count": null,
      "outputs": [
        {
          "output_type": "display_data",
          "data": {
            "text/plain": [
              "<Figure size 576x288 with 2 Axes>"
            ],
            "image/png": "[encoded data removed]"
          },
          "metadata": {
            "needs_background": "light"
          }
        }
      ]
    },
    {
      "cell_type": "code",
      "source": [
        "lb = np.array([x.min(), t.min()])\n",
        "ub = np.array([x.max(), t.max()])\n",
        "\n",
        "N0 = 100\n",
        "N_b = 100\n",
        "N_f = 10000 #15000\n",
        "layers = [2, 100, 100, 100, 100, 2]\n",
        "\n",
        "t = t.flatten()[:,None]\n",
        "x = x.flatten()[:,None]\n",
        "\n",
        "Exact_u = u.T\n",
        "Exact_v = v.T\n",
        "Exact_h = np.sqrt(Exact_u**2 + Exact_v**2)"
      ],
      "metadata": {
        "id": "qBoG-V5qGSHz"
      },
      "execution_count": null,
      "outputs": []
    },
    {
      "cell_type": "code",
      "source": [
        "X, T = np.meshgrid(x,t)\n",
        "    \n",
        "X_star = np.hstack((X.flatten()[:,None], T.flatten()[:,None]))\n",
        "u_star = Exact_u.T.flatten()[:,None]\n",
        "v_star = Exact_v.T.flatten()[:,None]\n",
        "h_star = Exact_h.T.flatten()[:,None]\n",
        "    \n",
        "idx_x = np.random.choice(x.shape[0], N0, replace=False)\n",
        "x0 = x[idx_x]\n",
        "u0 = Exact_u[idx_x,0:1]\n",
        "v0 = Exact_v[idx_x,0:1]\n",
        "    \n",
        "idx_t = np.random.choice(t.shape[0], N_b, replace=False)\n",
        "tb = t[idx_t]"
      ],
      "metadata": {
        "id": "4Ge-YcMPGXvv"
      },
      "execution_count": null,
      "outputs": []
    },
    {
      "cell_type": "code",
      "source": [
        "X_f = lb + (ub-lb)*lhs(2, N_f)"
      ],
      "metadata": {
        "id": "VOoH4lnssTRv"
      },
      "execution_count": null,
      "outputs": []
    },
    {
      "cell_type": "markdown",
      "source": [
        "# Training"
      ],
      "metadata": {
        "id": "WV24zOtyVDps"
      }
    },
    {
      "cell_type": "code",
      "source": [
        "model = PhysicsInformedNN(x0, u0, v0, tb, X_f, layers, lb, ub, 0.0)"
      ],
      "metadata": {
        "id": "WK9LH7-7GlJQ"
      },
      "execution_count": null,
      "outputs": []
    },
    {
      "cell_type": "code",
      "source": [
        "start_time = time.time()          \n",
        "model.train() # 10k adam + lbfgs\n",
        "elapsed = time.time() - start_time\n",
        "print('Training time: %.4f' % (elapsed))\n",
        "\n",
        "u, v = model.predict(X_star)"
      ],
      "metadata": {
        "colab": {
          "base_uri": "https://localhost:8080/"
        },
        "id": "hqtDPz7EslZr",
        "outputId": "55080f12-9212-47d2-e185-145cd2af62cf"
      },
      "execution_count": null,
      "outputs": [
        {
          "output_type": "stream",
          "name": "stdout",
          "text": [
            "Iter 500, Loss: 5.88500e-02, Loss_u: 2.34871e-02, Loss_f: 3.53629e-02\n",
            "Iter 1000, Loss: 3.85075e-02, Loss_u: 1.26506e-02, Loss_f: 2.58569e-02\n",
            "Iter 1500, Loss: 2.96041e-02, Loss_u: 1.00232e-02, Loss_f: 1.95809e-02\n",
            "Iter 2000, Loss: 2.33450e-02, Loss_u: 7.88980e-03, Loss_f: 1.54552e-02\n",
            "Iter 2500, Loss: 1.82922e-02, Loss_u: 6.48752e-03, Loss_f: 1.18046e-02\n",
            "Iter 3000, Loss: 1.53298e-02, Loss_u: 5.74589e-03, Loss_f: 9.58393e-03\n",
            "Iter 3500, Loss: 1.34713e-02, Loss_u: 5.09630e-03, Loss_f: 8.37496e-03\n",
            "Iter 4000, Loss: 1.22361e-02, Loss_u: 4.62955e-03, Loss_f: 7.60654e-03\n",
            "Iter 4500, Loss: 1.15042e-02, Loss_u: 4.32562e-03, Loss_f: 7.17860e-03\n",
            "Iter 5000, Loss: 1.09469e-02, Loss_u: 4.08916e-03, Loss_f: 6.85779e-03\n",
            "Iter 5500, Loss: 1.05247e-02, Loss_u: 3.91409e-03, Loss_f: 6.61059e-03\n",
            "Iter 6000, Loss: 1.01358e-02, Loss_u: 3.81998e-03, Loss_f: 6.31580e-03\n",
            "Iter 6500, Loss: 9.82478e-03, Loss_u: 3.58126e-03, Loss_f: 6.24352e-03\n",
            "Iter 7000, Loss: 9.47009e-03, Loss_u: 3.46798e-03, Loss_f: 6.00211e-03\n",
            "Iter 7500, Loss: 9.18199e-03, Loss_u: 3.34742e-03, Loss_f: 5.83457e-03\n",
            "Iter 8000, Loss: 9.23021e-03, Loss_u: 3.32056e-03, Loss_f: 5.90965e-03\n",
            "Iter 8500, Loss: 8.66861e-03, Loss_u: 3.07808e-03, Loss_f: 5.59054e-03\n",
            "Iter 9000, Loss: 8.42232e-03, Loss_u: 3.01130e-03, Loss_f: 5.41102e-03\n",
            "Iter 9500, Loss: 8.20398e-03, Loss_u: 2.85178e-03, Loss_f: 5.35220e-03\n",
            "Iter 10000, Loss: 7.98828e-03, Loss_u: 2.85789e-03, Loss_f: 5.13039e-03\n",
            "Iter 10500, Loss: 3.65805e-03, Loss_u: 1.24048e-03, Loss_f: 2.41758e-03\n",
            "Iter 11000, Loss: 2.14780e-03, Loss_u: 7.47286e-04, Loss_f: 1.40051e-03\n",
            "Iter 11500, Loss: 1.32217e-03, Loss_u: 4.70770e-04, Loss_f: 8.51397e-04\n",
            "Iter 12000, Loss: 7.81989e-04, Loss_u: 2.97988e-04, Loss_f: 4.84001e-04\n",
            "Iter 12500, Loss: 5.12636e-04, Loss_u: 1.58755e-04, Loss_f: 3.53882e-04\n",
            "Iter 13000, Loss: 3.84437e-04, Loss_u: 1.14135e-04, Loss_f: 2.70302e-04\n",
            "Iter 13500, Loss: 2.58451e-04, Loss_u: 6.41084e-05, Loss_f: 1.94343e-04\n",
            "Iter 14000, Loss: 1.96418e-04, Loss_u: 4.67549e-05, Loss_f: 1.49663e-04\n",
            "Iter 14500, Loss: 1.47609e-04, Loss_u: 2.86341e-05, Loss_f: 1.18975e-04\n",
            "Iter 15000, Loss: 1.08513e-04, Loss_u: 2.16643e-05, Loss_f: 8.68488e-05\n",
            "Iter 15500, Loss: 7.60255e-05, Loss_u: 1.25008e-05, Loss_f: 6.35247e-05\n",
            "Iter 16000, Loss: 5.77031e-05, Loss_u: 8.91669e-06, Loss_f: 4.87864e-05\n",
            "Iter 16500, Loss: 4.57852e-05, Loss_u: 7.57364e-06, Loss_f: 3.82116e-05\n",
            "Iter 17000, Loss: 3.82142e-05, Loss_u: 7.02852e-06, Loss_f: 3.11857e-05\n",
            "Iter 17500, Loss: 3.26516e-05, Loss_u: 5.81137e-06, Loss_f: 2.68403e-05\n",
            "Iter 18000, Loss: 2.91496e-05, Loss_u: 4.94397e-06, Loss_f: 2.42056e-05\n",
            "Iter 18500, Loss: 2.59434e-05, Loss_u: 4.45271e-06, Loss_f: 2.14907e-05\n",
            "Iter 19000, Loss: 2.29675e-05, Loss_u: 4.33446e-06, Loss_f: 1.86331e-05\n",
            "Iter 19500, Loss: 2.02883e-05, Loss_u: 4.11806e-06, Loss_f: 1.61702e-05\n",
            "Iter 20000, Loss: 1.87756e-05, Loss_u: 3.84800e-06, Loss_f: 1.49276e-05\n",
            "Iter 20500, Loss: 1.71174e-05, Loss_u: 3.70618e-06, Loss_f: 1.34112e-05\n",
            "Iter 21000, Loss: 1.57112e-05, Loss_u: 3.41538e-06, Loss_f: 1.22958e-05\n",
            "Iter 21500, Loss: 1.42915e-05, Loss_u: 3.24284e-06, Loss_f: 1.10486e-05\n",
            "Iter 22000, Loss: 1.27928e-05, Loss_u: 3.14434e-06, Loss_f: 9.64845e-06\n",
            "Iter 22500, Loss: 1.17913e-05, Loss_u: 3.09574e-06, Loss_f: 8.69556e-06\n",
            "Training time: 751.2097\n"
          ]
        }
      ]
    },
    {
      "cell_type": "code",
      "source": [
        "u = u.flatten() \n",
        "v = v.flatten()\n",
        "h = np.sqrt(u**2 + v**2)\n",
        "u_star = u_star.flatten() \n",
        "v_star = v_star.flatten()\n",
        "h_star = h_star.flatten()"
      ],
      "metadata": {
        "id": "Hf5Muc06mct3"
      },
      "execution_count": null,
      "outputs": []
    },
    {
      "cell_type": "code",
      "source": [
        "error_u = np.linalg.norm(u_star-u,2)/np.linalg.norm(u_star,2)\n",
        "error_v = np.linalg.norm(v_star-v,2)/np.linalg.norm(v_star,2)\n",
        "error_h = np.linalg.norm(h_star-h,2)/np.linalg.norm(h_star,2)\n",
        "print('Error u: %e' % (error_u))\n",
        "print('Error v: %e' % (error_v))\n",
        "print('Error h: %e' % (error_h))"
      ],
      "metadata": {
        "colab": {
          "base_uri": "https://localhost:8080/"
        },
        "id": "kkAPB5elmpsE",
        "outputId": "dc75da7c-30f7-4f23-da0f-0d1c697e1c19"
      },
      "execution_count": null,
      "outputs": [
        {
          "output_type": "stream",
          "name": "stdout",
          "text": [
            "Error u: 6.743318e-01\n",
            "Error v: 9.898141e-01\n",
            "Error h: 1.917284e-01\n"
          ]
        }
      ]
    },
    {
      "cell_type": "code",
      "source": [
        "u, v = model.predict(X_star)"
      ],
      "metadata": {
        "id": "W2Fv8WFEm9Eq"
      },
      "execution_count": null,
      "outputs": []
    },
    {
      "cell_type": "code",
      "source": [
        "h = np.sqrt(u**2 + v**2)\n",
        "h_1 = h.reshape((t.shape[0],x.shape[0]))\n",
        "h_2 = h_star.reshape((t.shape[0],x.shape[0]))\n",
        "draw_map(h_1, [lb[1], ub[1], lb[0], ub[0]], '$ |\\psi(x,t)| $')"
      ],
      "metadata": {
        "colab": {
          "base_uri": "https://localhost:8080/",
          "height": 301
        },
        "id": "ku25VNsSm1Xd",
        "outputId": "a5fb8327-64d6-4669-ece9-27281f822cea"
      },
      "execution_count": null,
      "outputs": [
        {
          "output_type": "display_data",
          "data": {
            "text/plain": [
              "<Figure size 576x288 with 2 Axes>"
            ],
            "image/png": "[encoded data removed]"
          },
          "metadata": {
            "needs_background": "light"
          }
        }
      ]
    },
    {
      "cell_type": "code",
      "source": [
        "u0, v0, h0 = rogue_wave(x, t)\n",
        "draw_map(h0, [lb[1], ub[1], lb[0], ub[0]],'$ |\\psi(x,t)| $')"
      ],
      "metadata": {
        "colab": {
          "base_uri": "https://localhost:8080/",
          "height": 301
        },
        "id": "QLyF03rzy6gw",
        "outputId": "ad443ebf-96fa-42ca-80b5-d3bcd1571367"
      },
      "execution_count": null,
      "outputs": [
        {
          "output_type": "display_data",
          "data": {
            "text/plain": [
              "<Figure size 576x288 with 2 Axes>"
            ],
            "image/png": "[encoded data removed]"
          },
          "metadata": {
            "needs_background": "light"
          }
        }
      ]
    }
  ],
  "metadata": {
    "kernelspec": {
      "display_name": "Python 3",
      "language": "python",
      "name": "python3"
    },
    "language_info": {
      "codemirror_mode": {
        "name": "ipython",
        "version": 3
      },
      "file_extension": ".py",
      "mimetype": "text/x-python",
      "name": "python",
      "nbconvert_exporter": "python",
      "pygments_lexer": "ipython3",
      "version": "3.6.9"
    },
    "colab": {
      "provenance": [],
      "collapsed_sections": []
    },
    "accelerator": "GPU",
    "gpuClass": "standard"
  },
  "nbformat": 4,
  "nbformat_minor": 0
}